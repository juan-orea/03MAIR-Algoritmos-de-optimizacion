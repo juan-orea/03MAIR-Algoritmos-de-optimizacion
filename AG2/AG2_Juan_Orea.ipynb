{
  "nbformat": 4,
  "nbformat_minor": 0,
  "metadata": {
    "colab": {
      "name": "AG2-Juan_Orea.ipynb",
      "version": "0.3.2",
      "provenance": [],
      "private_outputs": true,
      "include_colab_link": true
    },
    "kernelspec": {
      "name": "python3",
      "display_name": "Python 3"
    }
  },
  "cells": [
    {
      "cell_type": "markdown",
      "metadata": {
        "id": "view-in-github",
        "colab_type": "text"
      },
      "source": [
        "<a href=\"https://colab.research.google.com/github/juan-orea/03MAIR-Algoritmos-de-optimizacion/blob/master/AG2/AG2_Juan_Orea.ipynb\" target=\"_parent\"><img src=\"https://colab.research.google.com/assets/colab-badge.svg\" alt=\"Open In Colab\"/></a>"
      ]
    },
    {
      "metadata": {
        "id": "Lfrw69T8Znk-",
        "colab_type": "text"
      },
      "cell_type": "markdown",
      "source": [
        "Juan Manuel Orea - AG2<br>\n",
        "\n",
        "Actividad guiada 2<br>\n",
        "url: https://github.com/juan-orea/03MAIR-Algoritmos-de-optimizacion/blob/master/AG2/AG2_Juan_Orea.ipynb"
      ]
    },
    {
      "metadata": {
        "id": "2Py5J1LBk3wG",
        "colab_type": "code",
        "colab": {}
      },
      "cell_type": "code",
      "source": [
        "# Función auxiliar (decorator) para medir tiempos de ejecución de una función (propuesto por Isabel)\n",
        "from time import time\n",
        "#Función para calcular el tiempo de ejecución\n",
        "def calcular_tiempo(f):\n",
        "    def wrapper(*args, **kwargs):      \n",
        "        inicio = time()       \n",
        "        resultado = f(*args, **kwargs)       \n",
        "        tiempo = time() - inicio\n",
        "        print(\"Tiempo de ejecución para algoritmo: \"+str(tiempo))\n",
        "        return resultado\n",
        "    \n",
        "    return wrapper\n",
        "from time import time"
      ],
      "execution_count": 0,
      "outputs": []
    },
    {
      "metadata": {
        "id": "rm1mNKz9dNv2",
        "colab_type": "code",
        "colab": {}
      },
      "cell_type": "code",
      "source": [
        "import random\n",
        "import math\n",
        "\n",
        "N= 1200000  # tamaño del conjunto de prueba\n",
        "LISTA_2D = [ (random.randrange(1, N * 10), random.randrange(1, N * 10)) for _ in range(N) ]\n",
        "\n",
        "# print (LISTA_2D)"
      ],
      "execution_count": 0,
      "outputs": []
    },
    {
      "metadata": {
        "id": "kB_nXOkOZVO6",
        "colab_type": "code",
        "colab": {}
      },
      "cell_type": "code",
      "source": [
        "def distancia(A, B):\n",
        "  if type(A) is int or type(A) is float:\n",
        "    return abs(B - A)\n",
        "  if A == None or B == None:\n",
        "    return float(\"infinity\")\n",
        "  else:\n",
        "    return math.sqrt(sum([ (A[i] - B[i])**2 for i in range(len(A))  ]))"
      ],
      "execution_count": 0,
      "outputs": []
    },
    {
      "metadata": {
        "id": "LPtGJlMFdEKG",
        "colab_type": "code",
        "colab": {}
      },
      "cell_type": "code",
      "source": [
        "# Aproximacion por fuerza bruta\n",
        "# @calcular_tiempo\n",
        "def distancia_FuerzaBruta(L):\n",
        "  # resultado parcial (acumulado según el progreso): distancia y puntos para los que se dan\n",
        "  distancia_minima = float(\"infinity\")  #  inicializamos a inf para asegurar que vamos actualizando con nuestros valores\n",
        "  A, B = None, None\n",
        "  \n",
        "  for i in range(len(L)):\n",
        "    for j in range(i+1, len(L)):\n",
        "      dist = distancia(L[i], L[j])  # distancia 'local': la de los dos puntos en observacion\n",
        "      if dist < distancia_minima:\n",
        "        A, B = L[i], L[j]\n",
        "        distancia_minima = dist\n",
        "\n",
        "  return [A, B]\n",
        "                       \n",
        "print(distancia_FuerzaBruta(LISTA_2D))"
      ],
      "execution_count": 0,
      "outputs": []
    },
    {
      "metadata": {
        "id": "RtW7hNAzjRcI",
        "colab_type": "code",
        "colab": {}
      },
      "cell_type": "code",
      "source": [
        "# Aproximacion por estrategia de divide y venceras\n",
        "def calcularPivote(L, N):\n",
        "  largoLista = len(L)\n",
        "  sumaParcial = 0\n",
        "  for i in range(N):\n",
        "    sumaParcial += L[random.randrange(0, largoLista)][0]\n",
        "\n",
        "  return sumaParcial / N\n",
        "\n",
        "\n",
        "# @calcular_tiempo\n",
        "def distancia_divide_y_venceras(L):\n",
        "  #Si hay pocos por Fuerza Bruta\n",
        "  if len(L) <10: \n",
        "    return  distancia_FuerzaBruta(L)\n",
        "  \n",
        "  \n",
        "  #Dividir en listas grandes\n",
        "  #pivote = calcularPivote(L, 10)\n",
        "  #LISTA_IZQ, LISTA_DER = [], []\n",
        "  #for punto in L:\n",
        "  #  if punto[0] < pivote:\n",
        "  #    LISTA_IZQ.append(punto)\n",
        "  #  else:\n",
        "  #    LISTA_DER.append(punto)\n",
        "  \n",
        "  Lista_ordenada = sorted(L, key=lambda x: x[0])\n",
        "  LISTA_IZQ = Lista_ordenada[:len(L)//2]\n",
        "  LISTA_DER = Lista_ordenada[len(L)//2:]\n",
        "  \n",
        "  PUNTOS_LISTA_IZQ = distancia_divide_y_venceras(LISTA_IZQ)\n",
        "  PUNTOS_LISTA_DER = distancia_divide_y_venceras(LISTA_DER)\n",
        "  \n",
        "  return distancia_FuerzaBruta(PUNTOS_LISTA_IZQ + PUNTOS_LISTA_DER)\n",
        "  \n",
        "\n",
        "@calcular_tiempo  \n",
        "def LANZA(L):\n",
        "  return distancia_divide_y_venceras(L)\n",
        "  \n",
        "SOL = LANZA(LISTA_2D)\n",
        "\n",
        "print(SOL)"
      ],
      "execution_count": 0,
      "outputs": []
    },
    {
      "metadata": {
        "id": "oBE5yO1eUTa0",
        "colab_type": "code",
        "colab": {}
      },
      "cell_type": "code",
      "source": [
        "@calcular_tiempo\n",
        "def Ordenar(L):\n",
        "  Lista_ordenada = sorted(L, key=lambda x: x[0])\n",
        "  \n",
        "Ordenar(LISTA_2D)"
      ],
      "execution_count": 0,
      "outputs": []
    },
    {
      "metadata": {
        "id": "shZ10DkaWycp",
        "colab_type": "code",
        "colab": {}
      },
      "cell_type": "code",
      "source": [
        "# Paseo por el rio: calculo de la forma más eficiente para ir de un punto del río a otro, en base a la tabla de tarifas\n",
        "def mejoresPrecios(T):\n",
        "  n_nodos = len(T[0])\n",
        "  \n",
        "  PRECIOS = [  [9999] * n_nodos for i in range(n_nodos) ]\n",
        "  RUTAS   = [  ['']   * n_nodos for i in range(n_nodos) ]\n",
        "\n",
        "  for i in range(n_nodos - 1):\n",
        "    for j in range(i + 1, n_nodos):\n",
        "      # inicializacion: el viaje directo\n",
        "      precioViaje = T[i][j]   # el precio de ir de i a j es la tarifa directa de i a j\n",
        "      RUTAS[i][j] = i         # llegamos a j desde i\n",
        "      \n",
        "      # ahora buscamos combinaciones con trasbordo intermedio\n",
        "      for k in range(i, j):\n",
        "        PrecioConTrasbordo = PRECIOS[i][k] + T[k][j]\n",
        "        if PrecioConTrasbordo < precioViaje:\n",
        "          precioViaje = PrecioConTrasbordo\n",
        "          RUTAS[i][j] = k         # llegamos a j desde k (saliendo de i)\n",
        "\n",
        "      # Finalmente se fija el precio mejor en la tabla de resultados (se podría haber trabajado directamente sobre este elemento)\n",
        "      PRECIOS[i][j] = precioViaje\n",
        "          \n",
        "  return PRECIOS, RUTAS\n",
        "\n",
        "# Función auxiliar para \"aplanar\" las posibles iteraciones (trasbordos)\n",
        "def calcular_ruta(RUTA, desde, hasta):\n",
        "  if desde == hasta:\n",
        "    return desde \n",
        "\n",
        "  else:\n",
        "    return str(calcular_ruta(RUTA, desde, RUTA[desde][hasta])) +  ' --> ' + str(hasta)\n",
        "\n",
        "\n",
        "TARIFAS = [\n",
        "           [0,   5,   4,   3,   999, 999, 999],\n",
        "           [999, 0,   999, 2,   3,   999, 11],\n",
        "           [999, 999, 0,   1,   999, 4,   10],\n",
        "           [999, 999, 999, 0,   5,   6,   9],\n",
        "           [999, 999, 999, 999, 0,   999, 4],\n",
        "           [999, 999, 999, 999, 999, 0,   3],\n",
        "           [999, 999, 999, 999, 999, 999, 0]\n",
        "          ]\n",
        "\n",
        "p, r = precio(TARIFAS)\n",
        "\n",
        "print(r)\n",
        "print()\n",
        "print(\"La ruta es:\")  \n",
        "calcular_ruta(r, 1, 6)\n"
      ],
      "execution_count": 0,
      "outputs": []
    }
  ]
}