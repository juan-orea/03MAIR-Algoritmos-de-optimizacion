{
  "nbformat": 4,
  "nbformat_minor": 0,
  "metadata": {
    "colab": {
      "name": "AG2-Juan_Orea.ipynb",
      "version": "0.3.2",
      "provenance": [],
      "private_outputs": true,
      "collapsed_sections": [],
      "include_colab_link": true
    },
    "kernelspec": {
      "name": "python3",
      "display_name": "Python 3"
    }
  },
  "cells": [
    {
      "cell_type": "markdown",
      "metadata": {
        "id": "view-in-github",
        "colab_type": "text"
      },
      "source": [
        "<a href=\"https://colab.research.google.com/github/juan-orea/03MAIR-Algoritmos-de-optimizacion/blob/master/AG2/AG2_Juan_Orea.ipynb\" target=\"_parent\"><img src=\"https://colab.research.google.com/assets/colab-badge.svg\" alt=\"Open In Colab\"/></a>"
      ]
    },
    {
      "metadata": {
        "id": "Lfrw69T8Znk-",
        "colab_type": "text"
      },
      "cell_type": "markdown",
      "source": [
        "Juan Manuel Orea - AG2<br>\n",
        "\n",
        "Actividad guiada 2<br>\n",
        "url: https://github.com/juan-orea/03MAIR-Algoritmos-de-optimizacion/blob/master/AG2/Juan_Orea_AG2.ipynb"
      ]
    },
    {
      "metadata": {
        "id": "2Py5J1LBk3wG",
        "colab_type": "code",
        "colab": {}
      },
      "cell_type": "code",
      "source": [
        "# Función auxiliar (decorator) para medir tiempos de ejecución de una función (propuesto por Isabel)\n",
        "from time import time\n",
        "#Función para calcular el tiempo de ejecución\n",
        "def calcular_tiempo(f):\n",
        "    def wrapper(*args, **kwargs):      \n",
        "        inicio = time()       \n",
        "        resultado = f(*args, **kwargs)       \n",
        "        tiempo = time() - inicio\n",
        "        print(\"Tiempo de ejecución para algoritmo: \"+str(tiempo))\n",
        "        return resultado\n",
        "    \n",
        "    return wrapper\n",
        "from time import time"
      ],
      "execution_count": 0,
      "outputs": []
    },
    {
      "metadata": {
        "id": "rm1mNKz9dNv2",
        "colab_type": "code",
        "colab": {}
      },
      "cell_type": "code",
      "source": [
        "import random\n",
        "import math"
      ],
      "execution_count": 0,
      "outputs": []
    },
    {
      "metadata": {
        "id": "kB_nXOkOZVO6",
        "colab_type": "code",
        "colab": {}
      },
      "cell_type": "code",
      "source": [
        "def distancia(A, B):\n",
        "  if type(A) is int or type(A) is float:\n",
        "    return abs(B - A)\n",
        "  if A == None or B == None:\n",
        "    return float(\"infinity\")\n",
        "  else:\n",
        "    return math.sqrt(sum([ (A[i] - B[i])**2 for i in range(len(A))  ]))"
      ],
      "execution_count": 0,
      "outputs": []
    },
    {
      "metadata": {
        "id": "LPtGJlMFdEKG",
        "colab_type": "code",
        "colab": {}
      },
      "cell_type": "code",
      "source": [
        "# Aproximacion por fuerza bruta\n",
        "# @calcular_tiempo\n",
        "def distancia_FuerzaBruta(L):\n",
        "  # resultado parcial (acumulado según el progreso): distancia y puntos para los que se dan\n",
        "  distancia_minima = float(\"infinity\")  #  inicializamos a inf para asegurar que vamos actualizando con nuestros valores\n",
        "  A, B = None, None\n",
        "  \n",
        "  for i in range(len(L)):\n",
        "    for j in range(i+1, len(L)):\n",
        "      dist = distancia(L[i], L[j])  # distancia 'local': la de los dos puntos en observacion\n",
        "      if dist < distancia_minima:\n",
        "        A, B = L[i], L[j]\n",
        "        distancia_minima = dist\n",
        "\n",
        "  if distancia_minima == float(\"infinity\"):  # significa que no se ha podido calcular ninguna distancia (la lista está vacía o solo hay un elemento) \n",
        "    return []\n",
        "  else:\n",
        "    return [A, B]\n"
      ],
      "execution_count": 0,
      "outputs": []
    },
    {
      "metadata": {
        "id": "g-jPTgBc5k3w",
        "colab_type": "code",
        "colab": {}
      },
      "cell_type": "code",
      "source": [
        "# Algunas pruebas de ejecucion: medimos tiempos para distintos tamaños de lista y dimensiones\n",
        "@calcular_tiempo\n",
        "def midiendo_distancia_FuerzaBruta(L):\n",
        "  return distancia_FuerzaBruta(L)\n",
        "\n",
        "for i in  [1, 2, 3]:           # dimensiones\n",
        "  print('Dimensiones: {0}'.format(i))\n",
        "  for N in [100, 1000, 3000]:  # tamaño del conjunto de prueba\n",
        "    if i == 1:\n",
        "      LISTA = [ random.randrange(1, N * 10) for _ in range(N) ]\n",
        "    elif i == 2:\n",
        "      LISTA = [ (random.randrange(1, N * 10), random.randrange(1, N * 10)) for _ in range(N) ]\n",
        "    else:\n",
        "      LISTA = [ (random.randrange(1, N * 10), random.randrange(1, N * 10), random.randrange(1, N * 10)) for _ in range(N) ]\n",
        "    print('Prueba para {0} elementos, resultado: {1}'.format(N, midiendo_distancia_FuerzaBruta(LISTA)))"
      ],
      "execution_count": 0,
      "outputs": []
    },
    {
      "metadata": {
        "id": "UaHxjOcpB3W4",
        "colab_type": "text"
      },
      "cell_type": "markdown",
      "source": [
        "Comprobamos empíricamente que el orden es cuadrático.<br>\n",
        "Comprobamos que funciona correctamente para distinto número de dimensiones (más alla de 2 no hay diferencia realmente, así que llegamos solo hasta 3D)."
      ]
    },
    {
      "metadata": {
        "id": "RtW7hNAzjRcI",
        "colab_type": "code",
        "colab": {}
      },
      "cell_type": "code",
      "source": [
        "# Aproximacion por estrategia de divide y venceras\n",
        "# para calcular una métrica escalar de forma homogénea tanto en tuplas como en valores de naturaleza escalar\n",
        "# para tuplas simplemente se devuelve el primer elemento (primera dimension)\n",
        "def valor(v):\n",
        "  if type(v) is int or type(v) is float:\n",
        "    return v\n",
        "  else:\n",
        "    return v[0]\n",
        "\n",
        "# para calcular un punto intermedio de una lista dada: se utiliza promedia sobre un número dado de elementos\n",
        "# los valores se cogen de forma aleatoria para mitigar problemas en listas ordenadas (por ejemplo)\n",
        "def calcularPivote(L, N):\n",
        "  largoLista = len(L)\n",
        "  sumaParcial = 0\n",
        "  if len(L) == 0: return 0\n",
        "\n",
        "  for i in range(N):\n",
        "      sumaParcial += valor(L[random.randrange(0, largoLista)])\n",
        "\n",
        "  return sumaParcial / N\n",
        "\n",
        "\n",
        "def distancia_divide_y_venceras(L):\n",
        "  #Si hay pocos por Fuerza Bruta (se podría probar con distintos valores para decidir qué es \"poco\")\n",
        "  if len(L) < 10: \n",
        "    return  distancia_FuerzaBruta(L)\n",
        "  \n",
        "  # Dividir para listas grandes\n",
        "  pivote = calcularPivote(L, 10)\n",
        "  LISTA_IZQ, LISTA_DER, LISTA_CENTRO = [], [], []\n",
        "  for punto in L:\n",
        "    if valor(punto) < pivote:\n",
        "      LISTA_IZQ.append(punto)\n",
        "    else:\n",
        "      LISTA_DER.append(punto)\n",
        "  \n",
        "  # Lista_ordenada = sorted(L, key=lambda x: x[0])\n",
        "  # LISTA_IZQ = Lista_ordenada[:len(L)//2]\n",
        "  # LISTA_DER = Lista_ordenada[len(L)//2:]\n",
        "  \n",
        "  PUNTOS_LISTA_IZQ = distancia_divide_y_venceras(LISTA_IZQ)\n",
        "  PUNTOS_LISTA_DER = distancia_divide_y_venceras(LISTA_DER)\n",
        "  \n",
        "  # Para cubrir todas las casuísticas hay que comprobar los puntos \"centrales\" (alrededor del punto / línea de corte: C)\n",
        "  # tenemos en cuenta que el caso más desfavorable sería tener un punto A justo en el límite cerca de otro B que está del otro lado del corte\n",
        "  # este punto B debería estar respecto del punto de corte a una distancia menor que la menor distancia que hemos encontrado hasta ahora: d\n",
        "  # por tanto buscamos puntos que estén entre C - d y C + d: cogemos los puntos que queden en ese intervalo y les aplicamos también la búsqueda\n",
        "  d1 = distancia(PUNTOS_LISTA_IZQ[0], PUNTOS_LISTA_IZQ[1]) if len(PUNTOS_LISTA_IZQ) > 1 else float(\"infinity\")\n",
        "  d2 = distancia(PUNTOS_LISTA_DER[0], PUNTOS_LISTA_DER[1]) if len(PUNTOS_LISTA_DER) > 1 else float(\"infinity\")\n",
        "  d = d1 if d1 < d2 else d2\n",
        "  for punto in L:\n",
        "    if valor(punto) > pivote - d and valor(punto) < pivote + d:  # consideramos solo menor (y mayor) estricto, ya que la igualdad no mejoraría la menor distancia\n",
        "      LISTA_CENTRO.append(punto)\n",
        "  PUNTOS_LISTA_CENTRO = distancia_FuerzaBruta(LISTA_CENTRO)\n",
        " \n",
        "  # evitamos duplicar algún punto (haría que saliese esto como la menor distancia)\n",
        "  if len(PUNTOS_LISTA_CENTRO) > 1 and (PUNTOS_LISTA_CENTRO[1] in PUNTOS_LISTA_IZQ or PUNTOS_LISTA_CENTRO[1] in PUNTOS_LISTA_DER):\n",
        "    del PUNTOS_LISTA_CENTRO[1]\n",
        "  if len(PUNTOS_LISTA_CENTRO) > 0 and (PUNTOS_LISTA_CENTRO[0] in PUNTOS_LISTA_IZQ or PUNTOS_LISTA_CENTRO[0] in PUNTOS_LISTA_DER):\n",
        "    del PUNTOS_LISTA_CENTRO[0]\n",
        "\n",
        "  \n",
        "  return distancia_FuerzaBruta(PUNTOS_LISTA_IZQ + PUNTOS_LISTA_DER + PUNTOS_LISTA_CENTRO)"
      ],
      "execution_count": 0,
      "outputs": []
    },
    {
      "metadata": {
        "id": "6eG7b7Ps9N_a",
        "colab_type": "code",
        "colab": {}
      },
      "cell_type": "code",
      "source": [
        "# Algunas pruebas de ejecucion: medimos tiempos para distintos tamaños de lista y dimensiones\n",
        "@calcular_tiempo\n",
        "def midiendo_distancia_divide_y_venceras(L):\n",
        "  return distancia_divide_y_venceras(L)\n",
        "\n",
        "for i in  [1, 2, 3]:           # dimensiones\n",
        "  print('Dimensiones: {0}'.format(i))\n",
        "  for N in [1000, 10000, 30000]:  # tamaño del conjunto de prueba\n",
        "    if i == 1:\n",
        "      LISTA = [ random.randrange(1, N * 10) for _ in range(N) ]\n",
        "    elif i == 2:\n",
        "      LISTA = [ (random.randrange(1, N * 10), random.randrange(1, N * 10)) for _ in range(N) ]\n",
        "    else:\n",
        "      LISTA = [ (random.randrange(1, N * 10), random.randrange(1, N * 10), random.randrange(1, N * 10)) for _ in range(N) ]\n",
        "    print('Prueba para {0} elementos, resultado: {1}'.format(N, midiendo_distancia_divide_y_venceras(LISTA)))"
      ],
      "execution_count": 0,
      "outputs": []
    },
    {
      "metadata": {
        "id": "wYKK2tdhEJiM",
        "colab_type": "text"
      },
      "cell_type": "markdown",
      "source": [
        "He incluído una variación sobre lo visto en clase, evitando la ordenación de la lista para hacer las mitades. La ordenación que hace Python es muy eficiente, prácticamente O(N) en algunas pruebas rápidas que he hecho (supongo que usa estructuras tipo hash o similar), de forma que con toda seguridad será una ventaja hacer la ordenación para asegurar que se van cogiendo mitades iguales.<br>\n",
        "Sin embargo me ha parecido que en este caso era \"mezclar\", que en todo caso se podría haber hecho una ordenación inicial y trabajar con la lista ya ordenada.<br>\n",
        "Comprobamos que funciona correctamente para distinto número de dimensiones, sin embargo vemos que ya para 3 dimensiones se comporta bastante mal en cuanto a rendimiento. Dado que no supone gran diferencia computacional trabajar en N dimensiones (a partir de N > 1, lo podemos ver para las pruebas de fuerza bruta), creo que el problema viene por el tratamiento de la \"*zona de contacto*\", ya que va empeorando la relación entre la dimensión de particionado y el resto de dimensiones.<br>\n",
        "Seguro que en este punto hay bastante margen para mejorar."
      ]
    },
    {
      "metadata": {
        "id": "shZ10DkaWycp",
        "colab_type": "code",
        "colab": {}
      },
      "cell_type": "code",
      "source": [
        "# Paseo por el rio: calculo de la forma más eficiente para ir de un punto del río a otro, en base a la tabla de tarifas\n",
        "def mejoresPrecios(T):\n",
        "  n_nodos = len(T[0])\n",
        "  \n",
        "  PRECIOS = [  [9999] * n_nodos for i in range(n_nodos) ]\n",
        "  RUTAS   = [  ['']   * n_nodos for i in range(n_nodos) ]\n",
        "\n",
        "  for i in range(n_nodos - 1):\n",
        "    for j in range(i + 1, n_nodos):\n",
        "      # inicializacion: el viaje directo\n",
        "      precioViaje = T[i][j]   # el precio de ir de i a j es la tarifa directa de i a j\n",
        "      RUTAS[i][j] = i         # llegamos a j desde i\n",
        "      \n",
        "      # ahora buscamos combinaciones con trasbordo intermedio\n",
        "      for k in range(i, j):\n",
        "        PrecioConTrasbordo = PRECIOS[i][k] + T[k][j]\n",
        "        if PrecioConTrasbordo < precioViaje:\n",
        "          precioViaje = PrecioConTrasbordo\n",
        "          RUTAS[i][j] = k         # llegamos a j desde k (saliendo de i)\n",
        "\n",
        "      # Finalmente se fija el precio mejor en la tabla de resultados (se podría haber trabajado directamente sobre este elemento)\n",
        "      PRECIOS[i][j] = precioViaje\n",
        "          \n",
        "  return PRECIOS, RUTAS\n",
        "\n",
        "# Función auxiliar para \"aplanar\" las posibles iteraciones (trasbordos)\n",
        "def calcular_ruta(RUTA, desde, hasta):\n",
        "  if desde == hasta:\n",
        "    return desde \n",
        "\n",
        "  else:\n",
        "    return str(calcular_ruta(RUTA, desde, RUTA[desde][hasta])) +  ' --> ' + str(hasta)\n",
        "\n",
        "\n",
        "TARIFAS = [\n",
        "           [0,   5,   4,   3,   999, 999, 999],\n",
        "           [999, 0,   999, 2,   3,   999, 11],\n",
        "           [999, 999, 0,   1,   999, 4,   10],\n",
        "           [999, 999, 999, 0,   5,   6,   9],\n",
        "           [999, 999, 999, 999, 0,   999, 4],\n",
        "           [999, 999, 999, 999, 999, 0,   3],\n",
        "           [999, 999, 999, 999, 999, 999, 0]\n",
        "          ]\n",
        "\n",
        "p, r = precio(TARIFAS)\n",
        "\n",
        "print(r)\n",
        "print()\n",
        "print(\"La ruta es:\")  \n",
        "calcular_ruta(r, 1, 6)\n"
      ],
      "execution_count": 0,
      "outputs": []
    }
  ]
}
