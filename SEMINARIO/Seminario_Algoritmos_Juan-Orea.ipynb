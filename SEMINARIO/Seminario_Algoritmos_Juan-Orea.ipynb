{
  "nbformat": 4,
  "nbformat_minor": 0,
  "metadata": {
    "colab": {
      "name": "Seminario - Algoritmos.ipynb",
      "version": "0.3.2",
      "provenance": [],
      "collapsed_sections": [],
      "include_colab_link": true
    },
    "kernelspec": {
      "name": "python3",
      "display_name": "Python 3"
    }
  },
  "cells": [
    {
      "cell_type": "markdown",
      "metadata": {
        "id": "view-in-github",
        "colab_type": "text"
      },
      "source": [
        "<a href=\"https://colab.research.google.com/github/juan-orea/03MAIR-Algoritmos-de-optimizacion/blob/master/SEMINARIO/Seminario_Algoritmos_Juan-Orea.ipynb\" target=\"_parent\"><img src=\"https://colab.research.google.com/assets/colab-badge.svg\" alt=\"Open In Colab\"/></a>"
      ]
    },
    {
      "metadata": {
        "id": "hVbXYX-RfPWh",
        "colab_type": "text"
      },
      "cell_type": "markdown",
      "source": [
        "# Algoritmos de optimización - Seminario<br>\n",
        "Nombre y Apellidos: Juan Manuel Orea Parra  <br>\n",
        "Url: https://github.com/juan-orea/03MAIR-Algoritmos-de-optimizacion/tree/master/SEMINARIO<br>\n",
        "Problema:\n",
        "\n",
        "> 3. <font size=\"4\">**Combinar cifras y operaciones**</font><br>\n",
        "\n",
        "**Descripción del problema:**\n",
        "\n",
        "* El problema consiste en **analizar** el siguiente problema y **diseñar** un algoritmo que lo **resuelva**.\n",
        "\n",
        "* Disponemos de las 9 cifras del 1 al 9 (excluimos el cero) y de los 4 signos básicos de las\n",
        "operaciones fundamentales: suma(+), resta(-), multiplicación(&ast;) y división(/)\n",
        "\n",
        "* Debemos **combinarlos alternativamente sin repetir ninguno de ellos** para obtener una cantidad dada. Un ejemplo sería para obtener el 4:\n",
        "\n",
        ">>***4+2-6/3&ast;1 = 4***\n",
        "\n",
        "* Debe analizarse el problema para encontrar todos los **valores enteros** posibles planteando las siguientes cuestiones:\n",
        "> - ¿Qué valor máximo y mínimo a priori se pueden obtener según las condiciones?\n",
        "> - ¿Es posible encontrar **todos los valores enteros posibles** entre dicho mínimo y máximo ?\n",
        "* Nota: Es posible usar la función de python ***“eval”*** para evaluar una expresión.\n",
        "\n",
        " \n",
        "\n",
        "(*) La respuesta es obligatoria\n",
        "\n",
        "---\n",
        "\n",
        "\n",
        "\n",
        "                                        "
      ]
    },
    {
      "metadata": {
        "id": "3_-exlrTgLd-",
        "colab_type": "text"
      },
      "cell_type": "markdown",
      "source": [
        "(*)¿Cuantas posibilidades hay sin tener en cuenta las restricciones?"
      ]
    },
    {
      "metadata": {
        "id": "WfCUqJyKhPcw",
        "colab_type": "text"
      },
      "cell_type": "markdown",
      "source": [
        "**Respuesta**\n",
        "\n",
        "Planteado como un problema de combinatoria, consideramos las posibles combinaciones que satisfacen el enunciado del problema, con las dos condiciones básicas que propone: \n",
        "- debemos usar los 4 signos de las operaciones básicas de aritmética, en cualquier orden y sin repetir ninguno, que son $P_4 = 4!$ combinaciones.\n",
        "- debemos usar 5 cifras de un total de 9 (las 9 cifras, sin contar el 0), en cualquier orden y sin que haya repeticiones. Esto son $^9P_5 =\\frac{9!}{4!}$ combinaciones (permutaciones de 9 elementos tomados de 5 en 5).\n",
        "\n",
        "Ambos conjuntos se combinan en un orden preestablecido, alternando uno de cada grupo, por lo que el total de combinaciones será el producto de ambas $=4!\\cdot{\\frac{9!}{4!}} = 9! = 362.880$.\n",
        "\n",
        "Escrito de otra forma tenemos $9\\cdot{4}\\cdot{8}\\cdot{3}\\cdot{7}\\cdot{2}\\cdot{6}\\cdot{1}\\cdot{5}$ que son todos los términos del factorial, reordenados.\n",
        "\n",
        "---"
      ]
    },
    {
      "metadata": {
        "id": "kw_vrvLbDG3O",
        "colab_type": "text"
      },
      "cell_type": "markdown",
      "source": [
        "\n",
        "¿Cuantas posibilidades hay teniendo en cuenta todas las restricciones."
      ]
    },
    {
      "metadata": {
        "id": "BzK_N7puDNpQ",
        "colab_type": "text"
      },
      "cell_type": "markdown",
      "source": [
        "**Respuesta**\n",
        "\n",
        "Tenemos una restricción adicional que se deriva de la condición de que buscamos valores enteros, combinado con el análisis del significado de las operaciones. En particular, es relevante para la división ya que nos descarta varias combinaciones de cifras que no podríamos asociar con el signo de dividir si queremos conseguir un resultado entero.\n",
        "\n",
        "De esta forma pasamos de las 72 combinaciones posibles en torno a la división a solo 14 ($=8+3+2+1$: 8 para $/1$, 3 para $/2$, 2 para $/3$ y 1 para $/4$).\n",
        "\n",
        "Por tanto nos quedamos con $\\frac{9!\\cdot{14}}{72} = 70.560$ combinaciones.\n",
        "\n",
        "Para llegar a este resultado se debe tener en cuenta también la precedencia de operadores, ya que la división no se *mezcla* con suma y resta es independiente de que tenga estas operaciones alrededor y de qué resultado produzcan.\n",
        "\n",
        "---"
      ]
    },
    {
      "metadata": {
        "id": "dzynfVJahHoY",
        "colab_type": "text"
      },
      "cell_type": "markdown",
      "source": [
        "Modelo para el espacio de soluciones<br>\n",
        "(*) ¿Cual es la estructura de datos que mejor se adapta al problema? Argumentalo.(Es posible que hayas elegido una al principio y veas la necesidad de cambiar, arguentalo)\n"
      ]
    },
    {
      "metadata": {
        "id": "xFIJrOwKi2Ti",
        "colab_type": "text"
      },
      "cell_type": "markdown",
      "source": [
        "**Respuesta**\n",
        "\n",
        "Inicialmente he pensado que la mejor opción sería tener dos conjuntos, uno para las cifras y otro para los signos, de forma que se facilita eliminar los elementos usados a medida que vamos iterando sobre ellos en distintos niveles. Para fuerza bruta es la mejor opción.\n",
        "\n",
        "Para el algoritmo que planteo es mejor tener los datos de cifras ordenados y accesibles por posición, de forma que se pueda realizar fácilmente comprobaciones de qué elementos están ya en uso. Un conjunto facilita comprobar la disponibilidad, pero no tiene orden. Lo he implementado como un vector (lista de python) de valores booleanos, de forma que cada posición identifica si la cifra correspondiente está disponible: por ejemplo, cifras[5] representa la disponibilidad (True) o no (False) del valor 5. De esta forma se puede acceder directamente para comprobar que se puede usar una cifra.\n",
        "\n",
        "---"
      ]
    },
    {
      "metadata": {
        "id": "7Z9U2W7bi-XS",
        "colab_type": "text"
      },
      "cell_type": "markdown",
      "source": [
        "Según el modelo para el espacio de soluciones<br>\n",
        "(*)¿Cual es la función objetivo?\n",
        "\n",
        "(*)¿Es un problema de maximización o minimización?"
      ]
    },
    {
      "metadata": {
        "id": "hBalWLM7j1_d",
        "colab_type": "text"
      },
      "cell_type": "markdown",
      "source": [
        "**Respuesta**\n",
        "\n",
        "La función objetivo sería la diferencia entre el valor dado y el resultado de evaluar la combinación de cifras y signos. Como no se trata de un problema de optimización es un concepto que no tiene utilidad.\n",
        "\n",
        "\n",
        "No se trata de un problema de optimización ni de minimización, sino de encontrar una coincidencia exacta: no es mejor acercarse por 1 unidad que quedarse más lejos.\n",
        "\n",
        "---"
      ]
    },
    {
      "metadata": {
        "id": "rlnTYgY1j6I2",
        "colab_type": "text"
      },
      "cell_type": "markdown",
      "source": [
        "Diseña un algoritmo para resolver el problema por fuerza bruta"
      ]
    },
    {
      "metadata": {
        "id": "70rDgxYXkC8r",
        "colab_type": "text"
      },
      "cell_type": "markdown",
      "source": [
        "**Respuesta**\n",
        "\n",
        "La aproximación más sencilla es iterar sobre el conjunto de cifras y sobre el conjunto de signos, alternativamente y anidando cada nivel dentro del anterior. En cada nivel debemos comprobar que la cifra o signo no se esté usando ya de niveles previos. Con este sistema se comprueban combinaciones de forma sistemática hasta dar con el objetivo.\n",
        "\n",
        "Como opción \"mejorada\" (no por eficiencia, sino por legibilidad y extensibilidad)  tenemos la opción siguente, donde usamos una llamada recursiva para agregar cada cifra y cada símbolo, hasta que se acaben los símbolos (condición de parada)."
      ]
    },
    {
      "metadata": {
        "id": "CJb5sQ0qkENy",
        "colab_type": "code",
        "colab": {}
      },
      "cell_type": "code",
      "source": [
        "def agregarOperacion(C, S, cal, objetivo):\n",
        "  if len(S) == 0:  # no hay más niveles que agregar\n",
        "    if eval(cal) == objetivo:\n",
        "      return cal\n",
        "    else:\n",
        "      return None\n",
        "  \n",
        "  for signo in S:\n",
        "    for cifra in C:\n",
        "      res = agregarOperacion(C - set(cifra), S - set(signo), cal + signo + cifra, objetivo)\n",
        "      if res != None: return res\n",
        "  \n",
        "  return None\n",
        "\n",
        "\n",
        "def buscarExpresion(C, S, objetivo):\n",
        "  for c1 in C:\n",
        "    res = agregarOperacion(C - set(c1), S, c1, objetivo)\n",
        "    if res != None:\n",
        "      return res\n",
        "  return None\n",
        "\n",
        "\n",
        "cifras = {str(i) + 1 for i in range(9)}\n",
        "signos = {'+', '-', '*', '/'}\n",
        "\n",
        "for i in range (-80, 80):  # el rango viable va desde -67 a 77, cubriendo todos los posibles valores; cogemos algunos valores extra en los bordes para comprobar\n",
        "  print(str(i) + ' --> ' + str(buscarExpresion(cifras, signos, i)))"
      ],
      "execution_count": 0,
      "outputs": []
    },
    {
      "metadata": {
        "id": "tgrnsC2nkFa8",
        "colab_type": "text"
      },
      "cell_type": "markdown",
      "source": [
        "Calcula la complejidad del algoritmo por fuerza bruta"
      ]
    },
    {
      "metadata": {
        "id": "9eUd3xwckP68",
        "colab_type": "text"
      },
      "cell_type": "markdown",
      "source": [
        "**Respuesta**\n",
        "\n",
        "La complejidad es factorial en estas condiciones.\n",
        "\n",
        "Si pensaramos en extender el problema habría que plantearse que posiblemente no se extendería en signos de operación, sino en posibles números a combinar. En este caso, a valores grandes de N, estaríamos hablando de un orden polinomial $O(N^4)$"
      ]
    },
    {
      "metadata": {
        "id": "txbrmLmskReM",
        "colab_type": "text"
      },
      "cell_type": "markdown",
      "source": [
        "(*)Diseña un algoritmo que mejore la complejidad del algortimo por fuerza bruta. Argumenta porque crees que mejora el algoritmo por fuerza bruta"
      ]
    },
    {
      "metadata": {
        "id": "hLrVwt5QkZPD",
        "colab_type": "text"
      },
      "cell_type": "markdown",
      "source": [
        "**Respuesta**\n",
        "\n",
        "El algoritmo que planteo se basa en una estrategia de dividir el problema general en otros más manejables, quedando una mezcla entre ramificación y poda y vuelta atrás. Tenemos dos fases:\n",
        "\n",
        " - Aproximación de un número dado como producto de otros dos.\n",
        " - Obtención de un número dado como sumas y restas de otros dos.\n",
        " \n",
        "En un paso inicial se buscan candidatos viables para aproximar el producto. Se buscan las posibles combinaciones que aproximan el resultado a una distancia que sea abordable medienta la suma y resta de las cifras que quedan: como máximo el doble de la cifra mayor, que se puede dar para números negativos. Este resultado no es único, no es mejor el más cercano al objetivo, se trata más bien de descartar opciones inviables.\n",
        "\n",
        "Después intentamos obtener el resto que nos queda, después de tener en cuenta la multiplicación, mediante sumas y restas (si corresponde: tenemos la opción de que el resultado de multiplicar vaya restando, para sacar números negativos, de esta forma ya no podemos usar la resta sino en este caso quedan dos sumas). El procedimiento es coger una cifra disponible y calcular cuanto falta para cubrir la diferencia, y ver si está disponible ese valor, y repetir mientras queden opciones. Si acabamos las opciones volvemos atrás para probar con otra combinación de producto.\n",
        "\n",
        "La división ha sido problemática de gestionar. La solución, seguro que mejorable, ha sido incluirla dentro del cálculo de las sumas y restas, como factor de uno de los miembros.\n",
        "\n",
        "En cualquier caso, la ventaja aportada es que se evita la comprobación de combinaciones no viables, reduciendo el espacio de búsqueda."
      ]
    },
    {
      "metadata": {
        "id": "m1eyM21Vkabg",
        "colab_type": "code",
        "colab": {}
      },
      "cell_type": "code",
      "source": [
        "def buscarProducto(C, S, objetivo):\n",
        "  mayor = max(C)\n",
        "  cifras = [i in C for i in range(mayor + 1)]\n",
        "  \n",
        "  for i in range(mayor + 1):\n",
        "    if not cifras[i]:\n",
        "      continue\n",
        "    \n",
        "    cifra1 = i\n",
        "    if cifra1 * mayor < abs(objetivo) -2 * mayor or cifra1 * cifra1 > abs(objetivo) + 2 * mayor:\n",
        "      continue\n",
        "    \n",
        "    for j in range(i+1, mayor + 1):\n",
        "      if not cifras[j]:\n",
        "        continue\n",
        "      cifra2 = j\n",
        "      if cifra1 * cifra2 < abs(objetivo) + 2 * mayor:\n",
        "        menosCifras = cifras.copy()\n",
        "        menosCifras[i] = False\n",
        "        menosCifras[j] = False\n",
        "        if objetivo >= -mayor:\n",
        "          fino = buscarFino(menosCifras, S - {'+', '*'}, objetivo - cifra1 * cifra2)\n",
        "          if fino != None:\n",
        "            return fino + '+' + str(cifra1) + '*' + str(cifra2)\n",
        "        if objetivo <= mayor:\n",
        "          fino = buscarFino(menosCifras, S - {'-', '*'}, objetivo + cifra1 * cifra2)\n",
        "          if fino != None:\n",
        "            return fino + '-' + str(cifra1) + '*' + str(cifra2)\n",
        "  return None\n",
        "\n",
        "\n",
        "def buscarFino(C, S, objetivo):\n",
        "  # para controlar si hay que hacer suma (1) o resta (-1)\n",
        "  sumaResta = '-' if '-' in S else '+'\n",
        "\n",
        "  if objetivo <= 0 and sumaResta == '+':\n",
        "    return None\n",
        "\n",
        "  if objetivo > 13:\n",
        "    return None\n",
        "\n",
        "  if objetivo == 0:\n",
        "    if not '/' in S: return None\n",
        "    # posibles opciones para conseguir un 0 (muy limitadas):\n",
        "    # 2 - 6 / 3 ó 3 - 6 / 2  (son las mismas cifras, así que no lo tratamos como opciones distintas)\n",
        "    if C[2] and C[3] and C[6]:\n",
        "      return '2-6/3'\n",
        "    # 2 - 8 / 4\n",
        "    if C[2] and C[8] and C[4]:\n",
        "      return '2-8/4'\n",
        "    # No hay más opciones\n",
        "    return None\n",
        "\n",
        "  # tratamiento de la division\n",
        "  # opcion fácil y más probable: si podemos usar el 1, hacemos \"/ 1\"\n",
        "  for div in [1, 2, 3, 4]:\n",
        "    if div >= len(C) or not C[div]: continue\n",
        "    for i in range(2, len(C) // div + 5):\n",
        "      posible = comprobarDiferencia(C, objetivo, i, sumaResta, div)\n",
        "      if posible != None:\n",
        "        return posible\n",
        "  return None\n",
        "\n",
        "\n",
        "def comprobarDiferencia(C, objetivo, cifra, sumaResta, div):\n",
        "  complemento = objetivo - cifra if sumaResta == '+' else objetivo + cifra\n",
        "  if complemento < 0: return None\n",
        "  if div >= len(C) or not C[div]: return None\n",
        "  if abs(complemento) == cifra * div: return None\n",
        "  if abs(complemento) == div: return None\n",
        "  if abs(complemento) >= len(C) or not C[abs(complemento)]: return None\n",
        "  if complemento < 0 and sumaResta == '+': return None\n",
        "  if cifra * div >= len(C) or not C[cifra * div]: return None\n",
        "  if complemento > 0 and sumaResta == '+':\n",
        "    return str(cifra * div) + '/' + str(div) + sumaResta + str(complemento)\n",
        "  elif complemento > 0:\n",
        "    return str(complemento) + sumaResta + str(cifra * div) + '/' + str(div)\n",
        "  else:\n",
        "    return str(-cifra * div) + '/' + str(div) + sumaResta + str(complemento)\n",
        "\n",
        "\n",
        "cifras = {i + 1 for i in range(9)}\n",
        "signos = {'+', '-', '*', '/'}\n",
        "\n",
        "for i in range (-80, 80):  # el rango viable va desde -67 a 77, cubriendo todos los posibles valores; cogemos algunos valores extra en los bordes para comprobar\n",
        "  A = buscarProducto(cifras, signos, i)\n",
        "  print(str(i) + ' --> ' + str(A) + '=' + str(eval(A)) if A != None else str(None))\n"
      ],
      "execution_count": 0,
      "outputs": []
    },
    {
      "metadata": {
        "id": "eGDB4K6uk1iN",
        "colab_type": "text"
      },
      "cell_type": "markdown",
      "source": [
        "(*)Calcula la complejidad del algoritmo "
      ]
    },
    {
      "metadata": {
        "id": "NhpTh_BPk1ms",
        "colab_type": "text"
      },
      "cell_type": "markdown",
      "source": [
        "**Respuesta**\n",
        "\n",
        "Para el caso más desfavorable, que el de números pequeños (entre -18 y 18) es donde se concentran  más combinaciones para producir un producto dentro del intervalo establecido. En este caso tenemos 2N aproximadamente. Para cada una de estas, en el peor de los casos podría ser necesario realizar comprobaciones sobre 4 (posibles cifras para las que se contempla la division) * N / div (la cifra que se esté considerando para dividir): aproximadamente N + N/2 + N/3 + N/4, que tiende a 2N.\n",
        "\n",
        "En combinación quedaría un orden cuadrático: $O(4N^2)$"
      ]
    },
    {
      "metadata": {
        "id": "nREzhkStlCq8",
        "colab_type": "code",
        "colab": {}
      },
      "cell_type": "code",
      "source": [
        ""
      ],
      "execution_count": 0,
      "outputs": []
    },
    {
      "metadata": {
        "id": "3M6QjTsSkmYe",
        "colab_type": "text"
      },
      "cell_type": "markdown",
      "source": [
        "Según el problema (y tenga sentido), diseña un juego de datos de entrada aleatorios"
      ]
    },
    {
      "metadata": {
        "id": "Jc3_OlyNkvjZ",
        "colab_type": "text"
      },
      "cell_type": "markdown",
      "source": [
        "Respuesta"
      ]
    },
    {
      "metadata": {
        "id": "sJ-N2etjkyWc",
        "colab_type": "code",
        "colab": {}
      },
      "cell_type": "code",
      "source": [
        ""
      ],
      "execution_count": 0,
      "outputs": []
    },
    {
      "metadata": {
        "id": "zy5ZROmjlGo1",
        "colab_type": "text"
      },
      "cell_type": "markdown",
      "source": [
        "Aplica el algoritmo al juego de datos generado"
      ]
    },
    {
      "metadata": {
        "id": "_Cmj-PVylMsa",
        "colab_type": "text"
      },
      "cell_type": "markdown",
      "source": [
        "Respuesta"
      ]
    },
    {
      "metadata": {
        "id": "Jkx8GeiYlUz1",
        "colab_type": "code",
        "colab": {}
      },
      "cell_type": "code",
      "source": [
        ""
      ],
      "execution_count": 0,
      "outputs": []
    },
    {
      "metadata": {
        "colab_type": "text",
        "id": "eTFWUJQrtGcv"
      },
      "cell_type": "markdown",
      "source": [
        "Enumera las referencias que has utilizado(si ha sido necesario) para llevar a cabo el trabajo"
      ]
    },
    {
      "metadata": {
        "id": "YKQ_mRBttWsP",
        "colab_type": "text"
      },
      "cell_type": "markdown",
      "source": [
        "Respuesta\n",
        "\n",
        "https://docplayer.es/47915052-Permutaciones-permutaciones-sin-repeticion-de-n-elementos-tomados-todos-a-la-vez.html"
      ]
    },
    {
      "metadata": {
        "id": "kAkDPUyRtYyH",
        "colab_type": "text"
      },
      "cell_type": "markdown",
      "source": [
        "Describe brevemente las lineas de como crees que es posible avanzar en el estudio del problema. Ten en cuenta incluso posibles variaciones del problema y/o variaciones al alza del tamaño"
      ]
    },
    {
      "metadata": {
        "id": "IE0uZmo-tZu-",
        "colab_type": "text"
      },
      "cell_type": "markdown",
      "source": [
        "Respuesta"
      ]
    }
  ]
}