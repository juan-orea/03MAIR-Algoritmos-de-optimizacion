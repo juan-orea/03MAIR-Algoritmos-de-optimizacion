{
  "nbformat": 4,
  "nbformat_minor": 0,
  "metadata": {
    "colab": {
      "name": "Colonia de Hormigas - AG3.ipynb",
      "version": "0.3.2",
      "provenance": [],
      "include_colab_link": true
    },
    "kernelspec": {
      "name": "python3",
      "display_name": "Python 3"
    }
  },
  "cells": [
    {
      "cell_type": "markdown",
      "metadata": {
        "id": "view-in-github",
        "colab_type": "text"
      },
      "source": [
        "<a href=\"https://colab.research.google.com/github/juan-orea/03MAIR-Algoritmos-de-optimizacion/blob/master/AG3/Colonia_de_Hormigas_AG3.ipynb\" target=\"_parent\"><img src=\"https://colab.research.google.com/assets/colab-badge.svg\" alt=\"Open In Colab\"/></a>"
      ]
    },
    {
      "metadata": {
        "id": "-SWA0WtIfFOS",
        "colab_type": "code",
        "outputId": "44e665c2-462f-4d76-9e44-96035247dc13",
        "colab": {
          "base_uri": "https://localhost:8080/",
          "height": 90
        }
      },
      "cell_type": "code",
      "source": [
        "!pip install tsplib95\n",
        "\n",
        "import urllib.request\n",
        "import tsplib95\n",
        "import random\n",
        "from math import e\n",
        "from math import pow"
      ],
      "execution_count": 0,
      "outputs": [
        {
          "output_type": "stream",
          "text": [
            "Requirement already satisfied: tsplib95 in /usr/local/lib/python3.6/dist-packages (0.3.2)\n",
            "Requirement already satisfied: Click>=6.0 in /usr/local/lib/python3.6/dist-packages (from tsplib95) (7.0)\n",
            "Requirement already satisfied: networkx==2.1 in /usr/local/lib/python3.6/dist-packages (from tsplib95) (2.1)\n",
            "Requirement already satisfied: decorator>=4.1.0 in /usr/local/lib/python3.6/dist-packages (from networkx==2.1->tsplib95) (4.3.2)\n"
          ],
          "name": "stdout"
        }
      ]
    },
    {
      "metadata": {
        "id": "mnA47nhtdKOc",
        "colab_type": "code",
        "outputId": "caa2b4f5-1035-4187-dd06-ef233815a011",
        "colab": {
          "base_uri": "https://localhost:8080/",
          "height": 35
        }
      },
      "cell_type": "code",
      "source": [
        "file = \"swiss42.tsp\"\n",
        "\n",
        "urllib.request.urlretrieve(\"http://elib.zib.de/pub/mp-testdata/tsp/tsplib/tsp/swiss42.tsp\", file)"
      ],
      "execution_count": 0,
      "outputs": [
        {
          "output_type": "execute_result",
          "data": {
            "text/plain": [
              "('swiss42.tsp', <http.client.HTTPMessage at 0x7f3d967682b0>)"
            ]
          },
          "metadata": {
            "tags": []
          },
          "execution_count": 3
        }
      ]
    },
    {
      "metadata": {
        "id": "RIXYkDWcfmwd",
        "colab_type": "code",
        "colab": {}
      },
      "cell_type": "code",
      "source": [
        "problem = tsplib95.load_problem(file)\n",
        "\n",
        "#Nodos\n",
        "Nodos = list(problem.get_nodes())\n",
        "\n",
        "#Aristas\n",
        "Aristas = list(problem.get_edges()) "
      ],
      "execution_count": 0,
      "outputs": []
    },
    {
      "metadata": {
        "id": "nZOUm-4j-DN5",
        "colab_type": "code",
        "colab": {}
      },
      "cell_type": "code",
      "source": [
        "# Funciones auxiliares: distancia\n",
        "#Devuelve la distancia total de una trayectoria/solucion\n",
        "def distancia_total(solucion, problem):\n",
        "  distancia_total = 0\n",
        "  for i in range(len(solucion)-1):\n",
        "    distancia_total += distancia(solucion[i] ,solucion[i+1] ,  problem)\n",
        "  return distancia_total + distancia(solucion[len(solucion)-1] ,solucion[0], problem)\n",
        "\n",
        "#Devuelve la distancia entre dos nodos\n",
        "def distancia(a,b, problem):\n",
        "  return problem.wfunc(a,b)"
      ],
      "execution_count": 0,
      "outputs": []
    },
    {
      "metadata": {
        "id": "lGXJOIr4wCQD",
        "colab_type": "code",
        "colab": {}
      },
      "cell_type": "code",
      "source": [
        "# Funciones auxiliares\n",
        "def NivelFeromona(v):\n",
        "  return (v) / 10 if v <= 3.5 else 1 if v >= 1 else 0.1\n",
        "\n",
        "def Add_Nodo(problem, H ,T ) :\n",
        "  #Establecer una una funcion de probabilidad para \n",
        "  # añadir un nuevo nodo dependiendo de los nodos mas cercanos y de las feromonas depositadas\n",
        "\n",
        "  # alfa = 1.5\n",
        "  # beta = 2.5\n",
        "  nodos = list(problem.get_nodes())\n",
        "  descartados = set(H)\n",
        "  # print(H)\n",
        "  nodoActual = H[len(H) - 1]\n",
        "  Pesos = [ 0 if nodos[i] in descartados else \n",
        "           math.pow(NivelFeromona(T[nodoActual][nodos[i]]), alfa) * math.pow(50 / distancia(nodoActual, nodos[i], problem),beta)\n",
        "           for i in range(len(nodos)) ]\n",
        "  # print(Pesos)\n",
        "  # print(H)\n",
        "  # if len(descartados) == 2:\n",
        "  #  print(Pesos)\n",
        "  return random.choices(nodos, weights = Pesos)[0]\n",
        "\n",
        "\n",
        "def Incrementa_Feromona(problem, T, H ) :\n",
        "  #Incrementar segun la calidad de la solución. Añadir una cantidad inversamente proporcional a la distancia total \n",
        "  for i in range(len(H)-1):\n",
        "    T[H[i]][H[i+1]] += 2000/distancia_total(H, problem)\n",
        "  return T\n",
        "\n",
        "\n",
        "def Evaporar_Feromonas(T ):\n",
        "  #Podemos elegir diferentes funciones de evaporación dependiendo de la cantidad actual y de la suma total de feromonas depositadas,...\n",
        "  #Evapora 0.3 el valor de la feromona, sin que baje de 1\n",
        "  T = [[ max(T[i][j] - 0.3 , 1) for i in range(len(Nodos)) ] for j in range(len(Nodos))]\n",
        "  return T\n"
      ],
      "execution_count": 0,
      "outputs": []
    },
    {
      "metadata": {
        "id": "_RDUNbSQxGqW",
        "colab_type": "code",
        "colab": {}
      },
      "cell_type": "code",
      "source": [
        "def hormigas(problem, N) :\n",
        "  #problem = datos del problema\n",
        "  #N = Número de agentes(hormigas)\n",
        "    \n",
        "  #Nodos\n",
        "  Nodos = list(problem.get_nodes())\n",
        "    #Aristas\n",
        "  Aristas = list(problem.get_edges())\n",
        "  \n",
        "  mejor_solucion = []\n",
        "  mejor_distancia = 10e100\n",
        "  \n",
        "  #Inicializa las aristas con una cantidad inicial de feromonas:1\n",
        "  T = [[ 1 for _ in range(len(Nodos)) ] for _ in range(len(Nodos))]\n",
        "  \n",
        "  #Se generan los agentes(hormigas) que serán estructuras de caminos desde 0\n",
        "  Hormiga = [[0] for _ in range(N)]\n",
        "\n",
        "  #Recorre cada agente construyendo la solución\n",
        "  for h in range(N) :\n",
        "    #print(\"\\nAgente:\", h)\n",
        "    #Para cada agente se construye un camino\n",
        "    for i in range(len(Nodos)-1) :\n",
        "      \n",
        "      # print(Hormiga)\n",
        "      # print(Hormiga[h])\n",
        "      #Elige el siguiente nodo\n",
        "      Nuevo_Nodo = Add_Nodo(problem, Hormiga[h] ,T )\n",
        "      \n",
        "      Hormiga[h].append(Nuevo_Nodo)     \n",
        "    \n",
        "    #Incrementa feromonas en esa arista \n",
        "    T = Incrementa_Feromona(problem, T, Hormiga[h] )\n",
        "    #print(\"Feromonas(1)\", T)\n",
        "      \n",
        "    #Evapora Feromonas  \n",
        "    T = Evaporar_Feromonas(T)\n",
        "    #print(\"Feromonas(2)\", T)\n",
        "\n",
        "    #Seleccionamos el mejor agente\n",
        "    distancia_actual = distancia_total(Hormiga[h], problem)\n",
        "    if distancia_actual < mejor_distancia:\n",
        "      # motivación extra\n",
        "      # T = Incrementa_Feromona(problem, T, Hormiga[h] )\n",
        "      mejor_solucion = Hormiga[h]\n",
        "      mejor_distancia =distancia_actual\n",
        "      print('Paso {0}, distancia = {1}: {2}'.format(h, mejor_distancia, mejor_solucion))\n",
        "  \n",
        "  \n",
        "  # dibujarGrafo(mejor_solucion, problem)\n",
        "  print(mejor_solucion)\n",
        "  print(mejor_distancia)\n"
      ],
      "execution_count": 0,
      "outputs": []
    },
    {
      "metadata": {
        "id": "nw4EnUNJsWWY",
        "colab_type": "code",
        "outputId": "480090f4-7a1c-4f61-87f9-60c5a62a00e4",
        "colab": {
          "base_uri": "https://localhost:8080/",
          "height": 365
        }
      },
      "cell_type": "code",
      "source": [
        "# estas variables tendrían que ser locales a la funcion Add_Nodo\n",
        "alfa = 1.3  # 1.3\n",
        "beta = 3.5  # 3.5\n",
        "hormigas(problem, 2000)"
      ],
      "execution_count": 291,
      "outputs": [
        {
          "output_type": "stream",
          "text": [
            "Paso 0, distancia = 1956: [0, 1, 6, 26, 11, 12, 25, 10, 41, 9, 23, 39, 21, 40, 24, 38, 22, 29, 28, 2, 27, 3, 4, 32, 30, 19, 5, 14, 16, 15, 7, 17, 31, 35, 36, 37, 20, 33, 34, 18, 13, 8]\n",
            "Paso 4, distancia = 1927: [0, 1, 6, 5, 26, 19, 13, 9, 23, 41, 25, 10, 18, 11, 12, 4, 3, 27, 2, 28, 30, 29, 22, 38, 33, 34, 20, 32, 7, 31, 17, 37, 15, 16, 14, 35, 36, 40, 24, 21, 39, 8]\n",
            "Paso 6, distancia = 1918: [0, 2, 27, 31, 17, 37, 15, 16, 14, 19, 13, 5, 26, 6, 1, 3, 4, 18, 12, 11, 25, 10, 8, 41, 9, 23, 21, 39, 22, 38, 29, 28, 30, 20, 33, 34, 35, 36, 32, 7, 24, 40]\n",
            "Paso 7, distancia = 1884: [0, 1, 27, 2, 3, 4, 10, 25, 11, 12, 18, 5, 26, 6, 15, 16, 14, 7, 37, 17, 31, 36, 35, 30, 28, 29, 39, 21, 40, 8, 9, 23, 41, 22, 24, 38, 33, 20, 34, 32, 13, 19]\n",
            "Paso 9, distancia = 1834: [0, 1, 3, 4, 27, 2, 28, 29, 30, 31, 17, 37, 15, 16, 14, 19, 13, 5, 7, 6, 26, 18, 12, 11, 25, 10, 41, 8, 9, 23, 21, 39, 22, 38, 32, 34, 33, 20, 35, 36, 24, 40]\n",
            "Paso 14, distancia = 1654: [0, 1, 5, 26, 18, 12, 11, 25, 10, 8, 41, 23, 9, 40, 24, 39, 21, 22, 38, 4, 3, 27, 2, 28, 30, 29, 32, 7, 15, 16, 14, 37, 17, 31, 35, 36, 33, 34, 20, 6, 19, 13]\n",
            "Paso 50, distancia = 1520: [0, 1, 6, 4, 3, 27, 2, 28, 30, 29, 8, 41, 23, 9, 10, 25, 11, 12, 18, 26, 5, 19, 13, 14, 16, 15, 37, 17, 31, 36, 35, 33, 34, 20, 32, 39, 21, 40, 24, 22, 38, 7]\n",
            "Paso 52, distancia = 1497: [0, 1, 6, 4, 3, 27, 2, 28, 30, 29, 9, 8, 41, 23, 10, 25, 12, 11, 18, 26, 5, 13, 19, 14, 16, 15, 37, 7, 31, 17, 36, 35, 33, 34, 20, 32, 38, 22, 39, 21, 40, 24]\n",
            "Paso 56, distancia = 1484: [0, 1, 6, 4, 3, 27, 2, 28, 30, 29, 8, 9, 23, 41, 25, 10, 12, 11, 18, 26, 5, 19, 13, 14, 16, 15, 37, 7, 17, 31, 35, 36, 20, 33, 34, 32, 38, 22, 39, 21, 40, 24]\n",
            "Paso 196, distancia = 1445: [0, 1, 6, 4, 3, 27, 2, 28, 30, 29, 8, 10, 25, 12, 11, 18, 26, 5, 19, 13, 14, 16, 15, 37, 7, 17, 31, 36, 35, 20, 33, 34, 32, 38, 22, 39, 21, 40, 24, 9, 23, 41]\n",
            "Paso 472, distancia = 1433: [0, 1, 6, 4, 3, 27, 2, 28, 10, 25, 11, 12, 18, 26, 5, 19, 13, 14, 16, 15, 37, 7, 31, 17, 36, 35, 20, 33, 34, 32, 30, 29, 8, 41, 23, 9, 39, 21, 40, 24, 22, 38]\n",
            "Paso 770, distancia = 1427: [0, 1, 6, 4, 3, 27, 2, 28, 29, 30, 8, 10, 25, 11, 12, 18, 26, 5, 13, 19, 14, 16, 15, 37, 7, 17, 31, 36, 35, 20, 33, 34, 32, 38, 22, 39, 21, 40, 24, 9, 23, 41]\n",
            "Paso 869, distancia = 1423: [0, 1, 6, 5, 26, 18, 12, 11, 25, 10, 9, 22, 38, 39, 21, 40, 24, 23, 41, 8, 29, 30, 28, 2, 27, 3, 4, 32, 34, 33, 20, 35, 36, 31, 17, 37, 15, 16, 14, 19, 13, 7]\n",
            "Paso 992, distancia = 1411: [0, 1, 6, 4, 3, 27, 2, 28, 30, 29, 8, 10, 25, 11, 12, 18, 26, 5, 13, 19, 14, 16, 15, 37, 7, 17, 31, 36, 35, 20, 33, 34, 32, 38, 22, 39, 21, 40, 24, 23, 41, 9]\n",
            "Paso 1353, distancia = 1383: [0, 1, 6, 5, 26, 18, 12, 11, 25, 10, 8, 9, 23, 41, 40, 24, 21, 39, 22, 38, 32, 34, 33, 20, 35, 36, 31, 17, 7, 37, 15, 16, 14, 19, 13, 4, 3, 27, 2, 28, 30, 29]\n",
            "Paso 1568, distancia = 1352: [0, 1, 6, 4, 3, 27, 2, 28, 29, 30, 38, 22, 39, 21, 40, 24, 41, 23, 9, 8, 10, 25, 12, 11, 18, 26, 5, 19, 13, 16, 14, 15, 37, 7, 31, 17, 36, 35, 20, 33, 34, 32]\n",
            "[0, 1, 6, 4, 3, 27, 2, 28, 29, 30, 38, 22, 39, 21, 40, 24, 41, 23, 9, 8, 10, 25, 12, 11, 18, 26, 5, 19, 13, 16, 14, 15, 37, 7, 31, 17, 36, 35, 20, 33, 34, 32]\n",
            "1352\n"
          ],
          "name": "stdout"
        }
      ]
    },
    {
      "metadata": {
        "id": "Qb4vYeYMf9ll",
        "colab_type": "code",
        "colab": {}
      },
      "cell_type": "code",
      "source": [
        "print(\"Nodos\", Nodos)\n",
        "print(\"Aristas\", Aristas)\n"
      ],
      "execution_count": 0,
      "outputs": []
    },
    {
      "metadata": {
        "id": "OgUWtuYRD57O",
        "colab_type": "code",
        "colab": {}
      },
      "cell_type": "code",
      "source": [
        "import matplotlib.pyplot as plt\n",
        "import networkx as nx\n",
        "\n",
        "def dibujarGrafo(solucion, problema):\n",
        "    \n",
        "    # Declaración de Gráfico a utilizar: grafo dirigido\n",
        "    G=nx.DiGraph()\n",
        "    \n",
        "    for n in solucion:\n",
        "      # Añadimos los nodos\n",
        "      G.add_node(str(n))\n",
        "\n",
        "    # la intencion es dar la referencia de distancias entre todos los nodos, para que los posicione sobre el plano (pero no funciona así)\n",
        "    distancias = { u:{ v: distancia(u, v, problema) for v in range(len(solucion)) if u != v } for u in range(len(solucion)) }\n",
        "\n",
        "    # Este paso es necesario para definir la colocación de los nodos y aristas a dibujar\n",
        "    # Básicamente, este método genera una distribución ajustada al modelo de los nodos y aristas en el espacio\n",
        "    # Existen varias maneras de generar esta distribución pero la que he encontrado que mejor se ajusta es ésta\n",
        "    # ya que esta función utiliza el atributo 'weight' de las aristas para ajustar la posición de los nodos\n",
        "    # Otros: https://networkx.github.io/documentation/latest/reference/drawing.html#layout\n",
        "    # Además existen varias librerías para generar vistas con distintas distribuciones\n",
        "    pos=nx.kamada_kawai_layout(G, dist=distancias, weight=None)\n",
        "    \n",
        "    nodo_previo = None\n",
        "    for n in solucion:\n",
        "      if nodo_previo != None:\n",
        "        # Añadimos los caminos elegidos (para ir desde nodo_previo al nodo n)\n",
        "        G.add_edge(str(nodo_previo),str(n), weight=distancia(nodo_previo, n, problema))\n",
        "      nodo_previo = n\n",
        "      \n",
        "    # falta la arista de vuelta al inicio\n",
        "    G.add_edge(str(nodo_previo), str(solucion[0]), weight=distancia(nodo_previo, n, problema))\n",
        "\n",
        "    # Este paso es necesario si queremos mostrar el valor de las aristas\n",
        "    # Generamos un diccionario de las aristas para poder dibujarlas en el grafo a continuación\n",
        "    # Utilizamos el atributo 'weight' de las aristas para asignar un valor a la etiqueta\n",
        "    edge_labels=dict([((u,v,),d['weight']) for u,v,d in G.edges(data=True)])\n",
        "    \n",
        "\n",
        "    \n",
        "    # Se dibuja el grafo con las etiquetas de los nodos utilizando las posiciones generadas anteriormente\n",
        "    nx.draw(G,pos,with_labels=True)\n",
        "    \n",
        "    # Se dibujan las aristas direccionadas entre los nodos conectados con sus valores\n",
        "    nx.draw_networkx_edge_labels(G,pos,with_labels=True,edge_labels=edge_labels)\n"
      ],
      "execution_count": 0,
      "outputs": []
    }
  ]
}