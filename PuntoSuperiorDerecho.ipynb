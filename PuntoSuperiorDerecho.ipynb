{
  "nbformat": 4,
  "nbformat_minor": 0,
  "metadata": {
    "colab": {
      "name": "PuntoSuperiorDerecho.ipynb",
      "version": "0.3.2",
      "provenance": [],
      "private_outputs": true,
      "collapsed_sections": [],
      "include_colab_link": true
    },
    "kernelspec": {
      "name": "python3",
      "display_name": "Python 3"
    }
  },
  "cells": [
    {
      "cell_type": "markdown",
      "metadata": {
        "id": "view-in-github",
        "colab_type": "text"
      },
      "source": [
        "<a href=\"https://colab.research.google.com/github/juan-orea/03MAIR-Algoritmos-de-optimizacion/blob/master/PuntoSuperiorDerecho.ipynb\" target=\"_parent\"><img src=\"https://colab.research.google.com/assets/colab-badge.svg\" alt=\"Open In Colab\"/></a>"
      ]
    },
    {
      "metadata": {
        "id": "ajMvtZnP9EzF",
        "colab_type": "code",
        "colab": {}
      },
      "cell_type": "code",
      "source": [
        "import random\n",
        "import math\n",
        "import matplotlib.pyplot as plt"
      ],
      "execution_count": 0,
      "outputs": []
    },
    {
      "metadata": {
        "id": "-6dW1bfq9ZdY",
        "colab_type": "code",
        "colab": {}
      },
      "cell_type": "code",
      "source": [
        "# comprobamos que se cumple la condicion (A es esquina si está más a la derecha o más arriba que B): A_x > B_x ó que  A_y > B_y\n",
        "def comprobar(A, B):\n",
        "  return A[0] > B[0] or A[1] > B[1] or (A[0] == B[0] and A[1] == B[1])\n",
        "\n",
        "def FuerzaBruta(L):\n",
        "  longitud = len(L)\n",
        "  resultado = []\n",
        "\n",
        "  for i in range(longitud):\n",
        "    puedeSerEsquina = True\n",
        "#   print(L[i])\n",
        "    for j in range(longitud):\n",
        "      if i == j: continue\n",
        "#     print('punto {0}'.format(L[j]))\n",
        "      if not comprobar(L[i], L[j]):\n",
        "        puedeSerEsquina = False\n",
        "        break\n",
        "\n",
        "    if puedeSerEsquina:\n",
        "      resultado.append(L[i])\n",
        "\n",
        "  return resultado\n",
        "\n",
        "# para calcular un punto intermedio de una lista dada: se utiliza promedia sobre un número dado de elementos\n",
        "# los valores se cogen de forma aleatoria para mitigar problemas en listas ordenadas (por ejemplo)\n",
        "def calcularPivote(L, N):\n",
        "  largoLista = len(L)\n",
        "  sumaParcial = 0\n",
        "  if len(L) == 0: return 0\n",
        "\n",
        "  for i in range(N):\n",
        "      sumaParcial += L[random.randrange(0, largoLista)][0]\n",
        "\n",
        "  return [sumaParcial / N, 0]\n",
        "\n",
        "# criterio de ordenanción para elementos con más de una dimensión\n",
        "def esIzquierda(A, B):\n",
        "  return A[0] < B[0]\n",
        "\n",
        "\n",
        "def Divide(L):\n",
        "  #Si hay pocos por Fuerza Bruta (se podría probar con distintos valores para decidir qué es \"poco\")\n",
        "  if len(L) < 10: \n",
        "    return FuerzaBruta(L)\n",
        "  \n",
        "  # Dividir para listas grandes\n",
        "  pivote = calcularPivote(L, 10)\n",
        "  print('Corte {0}, {1} puntos'.format(pivote[0], len(L)))\n",
        "  LISTA_IZQ, LISTA_DER = [], []\n",
        "  for punto in L:\n",
        "    if esIzquierda(punto, pivote):\n",
        "      LISTA_IZQ.append(punto)\n",
        "    else:\n",
        "      LISTA_DER.append(punto)\n",
        "\n",
        "  # buscamos esquinas en la parte derecha\n",
        "  aristasDerecha   = Divide(LISTA_DER)\n",
        "  # y miramos cual es la cota superior (mayor ordenada) del resultado\n",
        "  mayor = 0\n",
        "  for i in aristasDerecha:\n",
        "    if i[1] > mayor: mayor = i[1]\n",
        "\n",
        "  # para la lista izquierda quitamos lo que quede por debajo de la cota calculada (--> LISTA_IZQ2)\n",
        "  LISTA_IZQ2 = []\n",
        "  for i in LISTA_IZQ:\n",
        "    if i[1] > mayor: LISTA_IZQ2.append(i)\n",
        "  \n",
        "  # y buscamos las esquinas que quedan en ese sector\n",
        "  aristasIzquierda = Divide(LISTA_IZQ2)\n",
        "\n",
        "  \n",
        "  return aristasIzquierda + aristasDerecha"
      ],
      "execution_count": 0,
      "outputs": []
    },
    {
      "metadata": {
        "id": "GELEUZmfEoKl",
        "colab_type": "code",
        "colab": {}
      },
      "cell_type": "code",
      "source": [
        "def Pintar(P, V, A = None):\n",
        "  plt.scatter(*zip(*P))\n",
        "  if A != None:\n",
        "    plt.scatter(*zip(*A), c='green')\n",
        "  plt.scatter(*zip(*V), c='red')\n",
        "  plt.show()"
      ],
      "execution_count": 0,
      "outputs": []
    },
    {
      "metadata": {
        "id": "p0lDKa2F8e50",
        "colab_type": "code",
        "colab": {}
      },
      "cell_type": "code",
      "source": [
        "# prueba: datos\n",
        "N = 10000\n",
        "def puntoSector(r,a):\n",
        "  ang = math.pi * a / 180\n",
        "  return (int(r*math.sin(ang)), int(r*math.cos(ang)))\n",
        "\n",
        "puntos = [ puntoSector(random.randrange(1, N * 10), random.randrange(0, 90)) for _ in range(N) ]\n",
        "\n",
        "\n",
        "# prueba\n",
        "vertices_bruto = FuerzaBruta(puntos)\n",
        "vertices_divide = Divide(puntos)\n",
        "\n",
        "# print(puntos)\n",
        "print (vertices_bruto)\n",
        "print (vertices_divide)\n",
        "\n",
        "Pintar(puntos, vertices_bruto)\n",
        "Pintar(puntos, vertices_divide)"
      ],
      "execution_count": 0,
      "outputs": []
    }
  ]
}