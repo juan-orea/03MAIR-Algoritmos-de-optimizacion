{
  "nbformat": 4,
  "nbformat_minor": 0,
  "metadata": {
    "colab": {
      "name": "Sort_Test.ipynb",
      "version": "0.3.2",
      "provenance": [],
      "collapsed_sections": [],
      "include_colab_link": true
    },
    "kernelspec": {
      "name": "python3",
      "display_name": "Python 3"
    }
  },
  "cells": [
    {
      "cell_type": "markdown",
      "metadata": {
        "id": "view-in-github",
        "colab_type": "text"
      },
      "source": [
        "<a href=\"https://colab.research.google.com/github/juan-orea/03MAIR-Algoritmos-de-optimizacion/blob/master/AG1/Sort_Test.ipynb\" target=\"_parent\"><img src=\"https://colab.research.google.com/assets/colab-badge.svg\" alt=\"Open In Colab\"/></a>"
      ]
    },
    {
      "metadata": {
        "id": "pYfRtQRdbV19",
        "colab_type": "text"
      },
      "cell_type": "markdown",
      "source": [
        "Este es mi primer código en GitHub (sorry about that)"
      ]
    },
    {
      "metadata": {
        "id": "mdy9I6duZt-R",
        "colab_type": "code",
        "colab": {}
      },
      "cell_type": "code",
      "source": [
        "!pip install sorting\n",
        "\n",
        "import sorting"
      ],
      "execution_count": 0,
      "outputs": []
    },
    {
      "metadata": {
        "id": "Hqpd2g_lab4x",
        "colab_type": "code",
        "colab": {}
      },
      "cell_type": "code",
      "source": [
        "lista = [1, 45, 123, 457, 1232, 2, 213, 23]\n",
        "lista_ordenada = sorting.bubble(lista)"
      ],
      "execution_count": 0,
      "outputs": []
    },
    {
      "metadata": {
        "id": "pERA8cEaaysA",
        "colab_type": "code",
        "colab": {
          "base_uri": "https://localhost:8080/",
          "height": 34
        },
        "outputId": "087e76e3-bdee-488d-a1b2-5fbdf2ecdce7"
      },
      "cell_type": "code",
      "source": [
        "print(lista_ordenada)"
      ],
      "execution_count": 9,
      "outputs": [
        {
          "output_type": "stream",
          "text": [
            "[1, 2, 23, 45, 123, 213, 457, 1232]\n"
          ],
          "name": "stdout"
        }
      ]
    }
  ]
}