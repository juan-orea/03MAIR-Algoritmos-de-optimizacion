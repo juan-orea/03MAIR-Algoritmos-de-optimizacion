{
  "nbformat": 4,
  "nbformat_minor": 0,
  "metadata": {
    "colab": {
      "name": "AG1-Juan_Orea.ipynb",
      "version": "0.3.2",
      "provenance": [],
      "private_outputs": true,
      "collapsed_sections": [],
      "include_colab_link": true
    },
    "kernelspec": {
      "name": "python3",
      "display_name": "Python 3"
    }
  },
  "cells": [
    {
      "cell_type": "markdown",
      "metadata": {
        "id": "view-in-github",
        "colab_type": "text"
      },
      "source": [
        "<a href=\"https://colab.research.google.com/github/juan-orea/03MAIR-Algoritmos-de-optimizacion/blob/master/AG1/AG1_Juan_Orea.ipynb\" target=\"_parent\"><img src=\"https://colab.research.google.com/assets/colab-badge.svg\" alt=\"Open In Colab\"/></a>"
      ]
    },
    {
      "metadata": {
        "id": "J_m9pOHUa5jo",
        "colab_type": "text"
      },
      "cell_type": "markdown",
      "source": [
        "AG - Actividad guiada 1\n",
        "\n",
        "Juan Manuel Orea\n",
        "\n",
        "https://github.com/juan-orea/03MAIR-Algoritmos-de-optimizacion/tree/master/AG1\n"
      ]
    },
    {
      "metadata": {
        "id": "Lj-WTBvMfiRP",
        "colab_type": "code",
        "colab": {}
      },
      "cell_type": "code",
      "source": [
        "# Función auxiliar (decorator) para medir tiempos de ejecución de una función (propuesto por Isabel)\n",
        "from time import time\n",
        "#Función para calcular el tiempo de ejecución\n",
        "def calcular_tiempo(f):\n",
        "    def wrapper(*args, **kwargs):      \n",
        "        inicio = time()       \n",
        "        resultado = f(*args, **kwargs)       \n",
        "        tiempo = time() - inicio\n",
        "        print(\"Tiempo de ejecución para algoritmo: \"+str(tiempo))\n",
        "        return resultado\n",
        "    \n",
        "    return wrapper\n",
        "from time import time"
      ],
      "execution_count": 0,
      "outputs": []
    },
    {
      "metadata": {
        "id": "m2rH3tzEavuA",
        "colab_type": "code",
        "colab": {}
      },
      "cell_type": "code",
      "source": [
        "# quick sort\n",
        "A = [9187, 244, 4054, 9222, 8373, 4993, 5265, 5470, 4519, 7182, 2035, 3506, 4337, 7580, 2554, 2824, 8357, 4447, 7379]\n",
        "\n",
        "def quick_sort(A):\n",
        "  if len(A) == 1:\n",
        "    return A\n",
        "  if len(A) == 2:\n",
        "    return A if A[0] < A[1] else [A[1], A[0]]\n",
        "  \n",
        "  pivote = (A[0] + A[1] + A[2]) / 3\n",
        "  Izq = []\n",
        "  Der = []\n",
        "  \n",
        "  for i in A:\n",
        "    if i < pivote:\n",
        "      Izq.append(i)\n",
        "    else:\n",
        "      Der.append(i)\n",
        "  \n",
        "  return quick_sort(Izq) + quick_sort(Der)\n",
        "\n",
        "@calcular_tiempo\n",
        "def Ordenar(A):\n",
        "  return quick_sort(A)\n",
        "\n",
        "# %timeit quick_sort(A)\n",
        "print(Ordenar(A))"
      ],
      "execution_count": 0,
      "outputs": []
    },
    {
      "metadata": {
        "id": "Lo9eil59jZVN",
        "colab_type": "code",
        "colab": {}
      },
      "cell_type": "code",
      "source": [
        "\n",
        "@calcular_tiempo\n",
        "def cambio_monedas(C, S = [25, 10, 5, 1]):\n",
        "  Sol = [0 for i in S]\n",
        "  Acumulado = 0\n",
        "  \n",
        "  for i in range(len(S)):\n",
        "    Sol[i] = int((C - Acumulado) / S[i])\n",
        "    Acumulado += Sol[i] * S[i]\n",
        "    \n",
        "    if (C == Acumulado):\n",
        "      return Sol\n",
        "    \n",
        "cambio_monedas(126)"
      ],
      "execution_count": 0,
      "outputs": []
    },
    {
      "metadata": {
        "id": "VidhVyzanURB",
        "colab_type": "code",
        "colab": {}
      },
      "cell_type": "code",
      "source": [
        "def es_prometedor(sol, e):\n",
        "  for i in range(e + 1):\n",
        "    if sol.count(sol[i]) > 1:\n",
        "      return False\n",
        "    \n",
        "    #verificamos las diagonales\n",
        "    for j in range(i + 1, e + 1):\n",
        "      if abs(i - j) == abs(sol[i] - sol[j]):\n",
        "        return False\n",
        "\n",
        "  return True\n",
        "\n",
        "# funcion auxiliar para pintar el resultado\n",
        "def imprimir_tablero(sol):\n",
        "  ancho = len(sol)\n",
        "  for i in range(ancho):\n",
        "    linea = ''\n",
        "    for j in range(ancho):\n",
        "      if sol[j] == i + 1:\n",
        "        linea += ' X '\n",
        "      else:\n",
        "        linea += ' - '\n",
        "    print(linea)\n",
        "  print()\n",
        "\n",
        "\n",
        "def reinas(N, sol, etapa):\n",
        "  for i in range(1, N + 1):\n",
        "    solucion[etapa] = i\n",
        "\n",
        "    if es_prometedor(sol, etapa):\n",
        "      if etapa == N - 1:\n",
        "        #return sol\n",
        "        imprimir_tablero(sol)\n",
        "      else:\n",
        "        reinas(N, sol, etapa + 1)\n",
        "    else:\n",
        "      None\n",
        "      \n",
        "    solucion[etapa] = 0\n",
        "\n",
        "N = 4\n",
        "solucion = [0 for i in range(N)]\n",
        "etapa = 0\n",
        "reinas(N, solucion, etapa)"
      ],
      "execution_count": 0,
      "outputs": []
    }
  ]
}